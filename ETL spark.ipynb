{
 "cells": [
  {
   "cell_type": "code",
   "execution_count": null,
   "metadata": {
    "application/vnd.databricks.v1+cell": {
     "cellMetadata": {
      "byteLimit": 2048000,
      "rowLimit": 10000
     },
     "inputWidgets": {},
     "nuid": "57419eb3-51f6-4912-a61a-dff85c1a8a10",
     "showTitle": false,
     "title": ""
    }
   },
   "outputs": [],
   "source": [
    "from pyspark.sql import SparkSession \n",
    "\n",
    "spark = SparkSession.builder.appName(\"stocks_analysis\").getOrCreate()"
   ]
  },
  {
   "cell_type": "markdown",
   "metadata": {
    "application/vnd.databricks.v1+cell": {
     "cellMetadata": {},
     "inputWidgets": {},
     "nuid": "378ba165-28d2-4d24-a897-e500f54a4723",
     "showTitle": false,
     "title": ""
    }
   },
   "source": [
    "Amazon IAM user credentials for accessing S3 bucket and fetching data."
   ]
  },
  {
   "cell_type": "code",
   "execution_count": null,
   "metadata": {
    "application/vnd.databricks.v1+cell": {
     "cellMetadata": {
      "byteLimit": 2048000,
      "rowLimit": 10000
     },
     "inputWidgets": {},
     "nuid": "06149671-9dca-4be5-bc1e-8dfb50cdc5e3",
     "showTitle": false,
     "title": ""
    }
   },
   "outputs": [
    {
     "name": "stdout",
     "output_type": "stream",
     "text": [
      "+--------+------------+----------+----------------+----------------+---------------+-----------------+------------+---------------------+\n",
      "|exchange|stock_symbol|      date|stock_price_open|stock_price_high|stock_price_low|stock_price_close|stock_volume|stock_price_adj_close|\n",
      "+--------+------------+----------+----------------+----------------+---------------+-----------------+------------+---------------------+\n",
      "|    NYSE|          XL|2010-02-08|           16.47|           16.85|          16.29|            16.51|     4793200|                16.51|\n",
      "|    NYSE|          XL|2010-02-05|           16.38|           16.55|          15.91|            16.46|     4760900|                16.46|\n",
      "|    NYSE|          XL|2010-02-04|           17.02|           17.02|          16.31|            16.41|     6716100|                16.41|\n",
      "|    NYSE|          XL|2010-02-03|           17.25|           17.34|          17.09|            17.14|     2657900|                17.14|\n",
      "|    NYSE|          XL|2010-02-02|           16.93|           17.52|          16.80|            17.33|     4282200|                17.33|\n",
      "|    NYSE|          XL|2010-02-01|           16.75|           17.09|          16.64|            16.88|     3258200|                16.88|\n",
      "|    NYSE|          XL|2010-01-29|           16.92|           17.16|          16.68|            16.77|     4546200|                16.77|\n",
      "|    NYSE|          XL|2010-01-28|           17.08|           17.08|          16.66|            16.75|     4069700|                16.75|\n",
      "|    NYSE|          XL|2010-01-27|           16.74|           17.08|          16.49|            16.99|     3339600|                16.99|\n",
      "|    NYSE|          XL|2010-01-26|           16.67|           17.34|          16.56|            16.74|     4608300|                16.74|\n",
      "|    NYSE|          XL|2010-01-25|           16.78|           16.91|          16.52|            16.74|     3413300|                16.74|\n",
      "|    NYSE|          XL|2010-01-22|           17.39|           17.39|          16.42|            16.48|     4567600|                16.48|\n",
      "|    NYSE|          XL|2010-01-21|           17.52|           17.72|          16.96|            17.34|     5895200|                17.34|\n",
      "|    NYSE|          XL|2010-01-20|           17.36|           17.61|          17.23|            17.52|     3589500|                17.52|\n",
      "|    NYSE|          XL|2010-01-19|           17.08|           17.70|          17.00|            17.61|     4660800|                17.61|\n",
      "|    NYSE|          XL|2010-01-15|           17.31|           17.38|          17.00|            17.09|     5619300|                17.09|\n",
      "|    NYSE|          XL|2010-01-14|           17.49|           17.58|          17.09|            17.46|     8226100|                17.46|\n",
      "|    NYSE|          XL|2010-01-13|           17.34|           17.74|          17.27|            17.51|     4770400|                17.51|\n",
      "|    NYSE|          XL|2010-01-12|           18.00|           18.00|          17.28|            17.36|    10797500|                17.36|\n",
      "|    NYSE|          XL|2010-01-11|           18.36|           18.40|          18.19|            18.28|     3598200|                18.28|\n",
      "+--------+------------+----------+----------------+----------------+---------------+-----------------+------------+---------------------+\n",
      "only showing top 20 rows\n",
      "\n"
     ]
    }
   ],
   "source": [
    "access_key = 'enter access key'\n",
    "secret_key = 'enter secret key'\n",
    "sc._jsc.hadoopConfiguration().set(\"fs.s3a.access.key\", access_key)\n",
    "sc._jsc.hadoopConfiguration().set(\"fs.s3a.secret.key\", secret_key)\n",
    "\n",
    "# # If you are using Auto Loader file notification mode to load files, provide the AWS Region ID.\n",
    "aws_region = \"enter region\"\n",
    "sc._jsc.hadoopConfiguration().set(\"fs.s3a.endpoint\", \"s3.\" + aws_region + \".amazonaws.com\")\n",
    "\n",
    "df = spark.read.csv('source file loc in s3',header=True)\n",
    "df.show()"
   ]
  },
  {
   "cell_type": "code",
   "execution_count": null,
   "metadata": {
    "application/vnd.databricks.v1+cell": {
     "cellMetadata": {
      "byteLimit": 2048000,
      "rowLimit": 10000
     },
     "inputWidgets": {},
     "nuid": "3addfcab-42b5-4e54-98fa-1431fd15d698",
     "showTitle": false,
     "title": ""
    }
   },
   "outputs": [
    {
     "name": "stdout",
     "output_type": "stream",
     "text": [
      "+------------+-----------------+\n",
      "|stock_symbol|stock_price_close|\n",
      "+------------+-----------------+\n",
      "|          XL|            16.51|\n",
      "|          XL|            16.46|\n",
      "|          XL|            16.41|\n",
      "|          XL|            17.14|\n",
      "|          XL|            17.33|\n",
      "|          XL|            16.88|\n",
      "|          XL|            16.77|\n",
      "|          XL|            16.75|\n",
      "|          XL|            16.99|\n",
      "|          XL|            16.74|\n",
      "|          XL|            16.74|\n",
      "|          XL|            16.48|\n",
      "|          XL|            17.34|\n",
      "|          XL|            17.52|\n",
      "|          XL|            17.61|\n",
      "|          XL|            17.09|\n",
      "|          XL|            17.46|\n",
      "|          XL|            17.51|\n",
      "|          XL|            17.36|\n",
      "|          XL|            18.28|\n",
      "+------------+-----------------+\n",
      "only showing top 20 rows\n",
      "\n"
     ]
    }
   ],
   "source": [
    "df1=df.select('stock_symbol','stock_price_close')\n",
    "df1.show()"
   ]
  },
  {
   "cell_type": "code",
   "execution_count": null,
   "metadata": {
    "application/vnd.databricks.v1+cell": {
     "cellMetadata": {
      "byteLimit": 2048000,
      "rowLimit": 10000
     },
     "inputWidgets": {},
     "nuid": "ee79ac3d-4398-494f-b8e1-d6a1704e087e",
     "showTitle": false,
     "title": ""
    }
   },
   "outputs": [
    {
     "name": "stdout",
     "output_type": "stream",
     "text": [
      "root\n",
      " |-- stock_symbol: string (nullable = true)\n",
      " |-- stock_price_close: string (nullable = true)\n",
      "\n"
     ]
    }
   ],
   "source": [
    "df1.printSchema()"
   ]
  },
  {
   "cell_type": "code",
   "execution_count": null,
   "metadata": {
    "application/vnd.databricks.v1+cell": {
     "cellMetadata": {
      "byteLimit": 2048000,
      "rowLimit": 10000
     },
     "inputWidgets": {},
     "nuid": "47a54c5e-af4c-475c-a2ff-c080a25d7ee4",
     "showTitle": false,
     "title": ""
    }
   },
   "outputs": [],
   "source": [
    "from pyspark.sql.functions import col\n",
    "\n",
    "df1 = df1.withColumn(\"stock_price_close\", col(\"stock_price_close\").cast(\"double\"))"
   ]
  },
  {
   "cell_type": "code",
   "execution_count": null,
   "metadata": {
    "application/vnd.databricks.v1+cell": {
     "cellMetadata": {
      "byteLimit": 2048000,
      "rowLimit": 10000
     },
     "inputWidgets": {},
     "nuid": "53034544-e5cb-41e8-a052-3386b145c03f",
     "showTitle": false,
     "title": ""
    }
   },
   "outputs": [
    {
     "name": "stdout",
     "output_type": "stream",
     "text": [
      "+------------+----------------------+\n",
      "|stock_symbol|avg(stock_price_close)|\n",
      "+------------+----------------------+\n",
      "|          XL|    56.548295916186134|\n",
      "|         XOM|     62.07296581703227|\n",
      "|         XKO|     10.38402179296681|\n",
      "|         XVG|    23.665942126514114|\n",
      "|         XRX|     48.55735065246069|\n",
      "|         XEC|    36.738355150825264|\n",
      "|         XKE|      7.97568252007413|\n",
      "|         XJT|     7.585616368286435|\n",
      "|         XFB|    24.577436069986575|\n",
      "|         XCJ|    25.056438356164392|\n",
      "|         XFR|     24.11657931034483|\n",
      "|         XRM|     6.120193439865432|\n",
      "|         XVF|     19.09675014560278|\n",
      "|         XFD|    22.164567126725238|\n",
      "|         XAA|     13.36183315038391|\n",
      "|         XIN|     5.954456721915289|\n",
      "|         XKK|     9.041530740276048|\n",
      "|         XFJ|      24.3249372647427|\n",
      "|         XFH|    23.749993726474262|\n",
      "|         XFL|    25.636919698870724|\n",
      "+------------+----------------------+\n",
      "only showing top 20 rows\n",
      "\n"
     ]
    }
   ],
   "source": [
    "df2=df1.groupBy('stock_symbol').avg('stock_price_close')\n",
    "df2.show()"
   ]
  },
  {
   "cell_type": "markdown",
   "metadata": {
    "application/vnd.databricks.v1+cell": {
     "cellMetadata": {},
     "inputWidgets": {},
     "nuid": "ba30d9ab-f07a-430f-b0f5-f44fc151f193",
     "showTitle": false,
     "title": ""
    }
   },
   "source": [
    "# Loading Data in S3 bucket in csv format"
   ]
  },
  {
   "cell_type": "code",
   "execution_count": null,
   "metadata": {
    "application/vnd.databricks.v1+cell": {
     "cellMetadata": {
      "byteLimit": 2048000,
      "rowLimit": 10000
     },
     "inputWidgets": {},
     "nuid": "c8a2044c-199d-4bfe-8baf-f502bfb2e595",
     "showTitle": false,
     "title": ""
    }
   },
   "outputs": [],
   "source": [
    "df2.coalesce(1).write.csv('enter destination loc in s3')"
   ]
  },
  {
   "cell_type": "code",
   "execution_count": null,
   "metadata": {
    "application/vnd.databricks.v1+cell": {
     "cellMetadata": {
      "byteLimit": 2048000,
      "rowLimit": 10000
     },
     "inputWidgets": {},
     "nuid": "a6844d31-29e8-4322-a098-6122b4e811c5",
     "showTitle": false,
     "title": ""
    }
   },
   "outputs": [
    {
     "data": {
      "image/png": "[encoded data removed]"
     },
     "metadata": {
      "application/vnd.databricks.v1+output": {
       "addedWidgets": {},
       "arguments": {},
       "data": "data:image/png;base64,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\n",
       "datasetInfos": [],
       "metadata": {},
       "removedWidgets": [],
       "type": "image"
      }
     },
     "output_type": "display_data"
    }
   ],
   "source": [
    "import matplotlib.pyplot as plt\n",
    "\n",
    "df_pandas = df2.toPandas()\n",
    "\n",
    "plt.figure(figsize=(10, 6))\n",
    "plt.bar(df_pandas['stock_symbol'], df_pandas['avg(stock_price_close)'])\n",
    "plt.title('stock_symbol vs avg_stock_close_price')\n",
    "plt.xlabel('stock_symbol')\n",
    "plt.ylabel('avg(stock_price_close)')\n",
    "plt.show()"
   ]
  },
  {
   "cell_type": "markdown",
   "metadata": {
    "application/vnd.databricks.v1+cell": {
     "cellMetadata": {},
     "inputWidgets": {},
     "nuid": "ac76f9f5-5b6e-40f7-b4d9-0464911aefae",
     "showTitle": false,
     "title": ""
    }
   },
   "source": [
    "RDD "
   ]
  },
  {
   "cell_type": "code",
   "execution_count": null,
   "metadata": {
    "application/vnd.databricks.v1+cell": {
     "cellMetadata": {
      "byteLimit": 2048000,
      "rowLimit": 10000
     },
     "inputWidgets": {},
     "nuid": "01580fd7-07a3-4cea-9972-53467f050663",
     "showTitle": false,
     "title": ""
    }
   },
   "outputs": [],
   "source": [
    "rdd1=sc.textFile('enter source file loc from s3')"
   ]
  },
  {
   "cell_type": "code",
   "execution_count": null,
   "metadata": {
    "application/vnd.databricks.v1+cell": {
     "cellMetadata": {
      "byteLimit": 2048000,
      "rowLimit": 10000
     },
     "inputWidgets": {},
     "nuid": "31f72824-df63-4346-9573-90e8ecce4a4e",
     "showTitle": false,
     "title": ""
    }
   },
   "outputs": [
    {
     "name": "stdout",
     "output_type": "stream",
     "text": [
      "Out[30]: ['exchange,stock_symbol,date,stock_price_open,stock_price_high,stock_price_low,stock_price_close,stock_volume,stock_price_adj_close',\n",
      " 'NYSE,XL,2010-02-08,16.47,16.85,16.29,16.51,4793200,16.51']"
     ]
    }
   ],
   "source": [
    "rdd1.take(2)"
   ]
  },
  {
   "cell_type": "code",
   "execution_count": null,
   "metadata": {
    "application/vnd.databricks.v1+cell": {
     "cellMetadata": {
      "byteLimit": 2048000,
      "rowLimit": 10000
     },
     "inputWidgets": {},
     "nuid": "9904f3ca-0fa8-4e76-bcac-30dfedb6c220",
     "showTitle": false,
     "title": ""
    }
   },
   "outputs": [
    {
     "name": "stdout",
     "output_type": "stream",
     "text": [
      "Out[31]: [['NYSE',\n",
      "  'XL',\n",
      "  '2010-02-08',\n",
      "  '16.47',\n",
      "  '16.85',\n",
      "  '16.29',\n",
      "  '16.51',\n",
      "  '4793200',\n",
      "  '16.51'],\n",
      " ['NYSE',\n",
      "  'XL',\n",
      "  '2010-02-05',\n",
      "  '16.38',\n",
      "  '16.55',\n",
      "  '15.91',\n",
      "  '16.46',\n",
      "  '4760900',\n",
      "  '16.46'],\n",
      " ['NYSE',\n",
      "  'XL',\n",
      "  '2010-02-04',\n",
      "  '17.02',\n",
      "  '17.02',\n",
      "  '16.31',\n",
      "  '16.41',\n",
      "  '6716100',\n",
      "  '16.41'],\n",
      " ['NYSE',\n",
      "  'XL',\n",
      "  '2010-02-03',\n",
      "  '17.25',\n",
      "  '17.34',\n",
      "  '17.09',\n",
      "  '17.14',\n",
      "  '2657900',\n",
      "  '17.14'],\n",
      " ['NYSE',\n",
      "  'XL',\n",
      "  '2010-02-02',\n",
      "  '16.93',\n",
      "  '17.52',\n",
      "  '16.80',\n",
      "  '17.33',\n",
      "  '4282200',\n",
      "  '17.33']]"
     ]
    }
   ],
   "source": [
    "r2=rdd1.map(lambda x:x.split(\",\"))\n",
    "header = r2.first()\n",
    "r2 = r2.filter(lambda line : line != header)\n",
    "r2.take(5)"
   ]
  },
  {
   "cell_type": "code",
   "execution_count": null,
   "metadata": {
    "application/vnd.databricks.v1+cell": {
     "cellMetadata": {
      "byteLimit": 2048000,
      "rowLimit": 10000
     },
     "inputWidgets": {},
     "nuid": "e7bf50a0-9e24-47dd-b3e8-790fee91638e",
     "showTitle": false,
     "title": ""
    }
   },
   "outputs": [],
   "source": [
    "r3=r2.flatMap(lambda x:[(x[1],float(x[3]))])"
   ]
  },
  {
   "cell_type": "code",
   "execution_count": null,
   "metadata": {
    "application/vnd.databricks.v1+cell": {
     "cellMetadata": {
      "byteLimit": 2048000,
      "rowLimit": 10000
     },
     "inputWidgets": {},
     "nuid": "1ac2fd24-2e9d-428b-905a-5ea19e174ff0",
     "showTitle": false,
     "title": ""
    }
   },
   "outputs": [
    {
     "name": "stdout",
     "output_type": "stream",
     "text": [
      "Out[33]: [(('XL', 16.47), 1),\n",
      " (('XL', 16.38), 1),\n",
      " (('XL', 17.02), 1),\n",
      " (('XL', 17.25), 1),\n",
      " (('XL', 16.93), 1),\n",
      " (('XL', 16.75), 1),\n",
      " (('XL', 16.92), 1),\n",
      " (('XL', 17.08), 1),\n",
      " (('XL', 16.74), 1),\n",
      " (('XL', 16.67), 1)]"
     ]
    }
   ],
   "source": [
    "r4=r3.map(lambda x: (x,1))\n",
    "r4.take(10)"
   ]
  },
  {
   "cell_type": "code",
   "execution_count": null,
   "metadata": {
    "application/vnd.databricks.v1+cell": {
     "cellMetadata": {
      "byteLimit": 2048000,
      "rowLimit": 10000
     },
     "inputWidgets": {},
     "nuid": "bd3cf4a7-3c83-48fe-bdaa-2b9ddec54929",
     "showTitle": false,
     "title": ""
    }
   },
   "outputs": [],
   "source": [
    "r5=r4.flatMap(lambda x:[(x[0][0],x[0][1])])\n",
    "r5.take(5)\n",
    "r6=r4.flatMap(lambda x:[(x[0][0],x[1])])"
   ]
  },
  {
   "cell_type": "code",
   "execution_count": null,
   "metadata": {
    "application/vnd.databricks.v1+cell": {
     "cellMetadata": {
      "byteLimit": 2048000,
      "rowLimit": 10000
     },
     "inputWidgets": {},
     "nuid": "0c448cce-dea8-455f-87c5-c0e4d4131ae8",
     "showTitle": false,
     "title": ""
    }
   },
   "outputs": [
    {
     "name": "stdout",
     "output_type": "stream",
     "text": [
      "Out[35]: [('XL', 4677), ('XFJ', 1594), ('XVG', 1486), ('XFB', 1486), ('XOM', 10122)]"
     ]
    }
   ],
   "source": [
    "r6.take(5)\n",
    "r7=r6.reduceByKey(lambda x,y:x+y)\n",
    "r7.take(5)"
   ]
  },
  {
   "cell_type": "code",
   "execution_count": null,
   "metadata": {
    "application/vnd.databricks.v1+cell": {
     "cellMetadata": {
      "byteLimit": 2048000,
      "rowLimit": 10000
     },
     "inputWidgets": {},
     "nuid": "3cfc2841-cbf3-4b86-b14a-f3cbbf628121",
     "showTitle": false,
     "title": ""
    }
   },
   "outputs": [
    {
     "name": "stdout",
     "output_type": "stream",
     "text": [
      "Out[36]: [('XL', 264517.55000000255), ('XFJ', 38749.61999999995)]"
     ]
    }
   ],
   "source": [
    "r5=r5.reduceByKey(lambda x,y:x+y)\n",
    "r5.take(2)"
   ]
  },
  {
   "cell_type": "code",
   "execution_count": null,
   "metadata": {
    "application/vnd.databricks.v1+cell": {
     "cellMetadata": {
      "byteLimit": 2048000,
      "rowLimit": 10000
     },
     "inputWidgets": {},
     "nuid": "080f0f4a-2bf0-4814-85c3-6bf4b5680532",
     "showTitle": false,
     "title": ""
    }
   },
   "outputs": [
    {
     "name": "stdout",
     "output_type": "stream",
     "text": [
      "Out[37]: [('XL', (264517.55000000255, 4677)),\n",
      " ('XFJ', (38749.61999999995, 1594)),\n",
      " ('XVG', (35153.10999999997, 1486)),\n",
      " ('XFB', (36502.420000000006, 1486)),\n",
      " ('XOM', (627964.2600000007, 10122))]"
     ]
    }
   ],
   "source": [
    "r8=r5.join(r7)\n",
    "r8.take(5)"
   ]
  },
  {
   "cell_type": "code",
   "execution_count": null,
   "metadata": {
    "application/vnd.databricks.v1+cell": {
     "cellMetadata": {
      "byteLimit": 2048000,
      "rowLimit": 10000
     },
     "inputWidgets": {},
     "nuid": "05af0ffe-4702-4077-bb87-5b9904c4e368",
     "showTitle": false,
     "title": ""
    }
   },
   "outputs": [],
   "source": [
    "r9=r8.flatMap(lambda x:[(x[0],(x[1][0]/x[1][1]))])"
   ]
  },
  {
   "cell_type": "code",
   "execution_count": null,
   "metadata": {
    "application/vnd.databricks.v1+cell": {
     "cellMetadata": {
      "byteLimit": 2048000,
      "rowLimit": 10000
     },
     "inputWidgets": {},
     "nuid": "6003d507-d038-4d9f-b81b-752f567deb1c",
     "showTitle": false,
     "title": ""
    }
   },
   "outputs": [
    {
     "name": "stdout",
     "output_type": "stream",
     "text": [
      "Out[44]: [('XL', 56.55709856745832),\n",
      " ('XFJ', 24.309673776662454),\n",
      " ('XVG', 23.65619784656795),\n",
      " ('XFB', 24.564212651413193),\n",
      " ('XOM', 62.0395435684648),\n",
      " ('XKN', 17.563757841907165),\n",
      " ('XVF', 19.091403610949303),\n",
      " ('XTO', 27.05285270205642),\n",
      " ('XEC', 36.74586795674443),\n",
      " ('XRX', 48.54142942655385),\n",
      " ('XFL', 25.62698243412795),\n",
      " ('XIN', 5.9897974217311205),\n",
      " ('XKE', 7.969505867819643),\n",
      " ('XRM', 6.129058031959629),\n",
      " ('XFD', 22.162634880803044),\n",
      " ('XFR', 24.110372413793105),\n",
      " ('XCO', 15.781898608349882),\n",
      " ('XJT', 7.6039744245524306),\n",
      " ('XAA', 13.357546652030676),\n",
      " ('XFP', 20.25485570890843),\n",
      " ('XKO', 10.384422981674085),\n",
      " ('XKK', 9.04223964868255),\n",
      " ('XFH', 23.726298619824316),\n",
      " ('XCJ', 25.07545988258317),\n",
      " ('XEL', 31.43924341034821)]"
     ]
    }
   ],
   "source": [
    "r9.collect()"
   ]
  },
  {
   "cell_type": "markdown",
   "metadata": {
    "application/vnd.databricks.v1+cell": {
     "cellMetadata": {},
     "inputWidgets": {},
     "nuid": "32548a7c-29ba-458b-94b6-8318bbe2f01b",
     "showTitle": false,
     "title": ""
    }
   },
   "source": [
    "# Loading Data in S3 bucket "
   ]
  },
  {
   "cell_type": "code",
   "execution_count": null,
   "metadata": {
    "application/vnd.databricks.v1+cell": {
     "cellMetadata": {
      "byteLimit": 2048000,
      "rowLimit": 10000
     },
     "inputWidgets": {},
     "nuid": "5570b91a-c093-4d6e-995b-35a73ab46dff",
     "showTitle": false,
     "title": ""
    }
   },
   "outputs": [
    {
     "name": "stdout",
     "output_type": "stream",
     "text": [
      "Unexpected exception formatting exception. Falling back to standard exception\n"
     ]
    },
    {
     "name": "stderr",
     "output_type": "stream",
     "text": [
      "Traceback (most recent call last):\n",
      "  File \"/databricks/python/lib/python3.9/site-packages/IPython/core/interactiveshell.py\", line 3378, in run_code\n",
      "    exec(code_obj, self.user_global_ns, self.user_ns)\n",
      "  File \"<command-884284684934165>\", line 2, in <module>\n",
      "    rdd_to_df=r9.toDf()\n",
      "AttributeError: 'PipelinedRDD' object has no attribute 'toDf'\n",
      "\n",
      "During handling of the above exception, another exception occurred:\n",
      "\n",
      "Traceback (most recent call last):\n",
      "  File \"/databricks/python/lib/python3.9/site-packages/IPython/core/interactiveshell.py\", line 1997, in showtraceback\n",
      "    stb = self.InteractiveTB.structured_traceback(\n",
      "  File \"/databricks/python/lib/python3.9/site-packages/IPython/core/ultratb.py\", line 1112, in structured_traceback\n",
      "    return FormattedTB.structured_traceback(\n",
      "  File \"/databricks/python/lib/python3.9/site-packages/IPython/core/ultratb.py\", line 1006, in structured_traceback\n",
      "    return VerboseTB.structured_traceback(\n",
      "  File \"/databricks/python/lib/python3.9/site-packages/IPython/core/ultratb.py\", line 859, in structured_traceback\n",
      "    formatted_exception = self.format_exception_as_a_whole(etype, evalue, etb, number_of_lines_of_context,\n",
      "  File \"/databricks/python/lib/python3.9/site-packages/IPython/core/ultratb.py\", line 812, in format_exception_as_a_whole\n",
      "    frames.append(self.format_record(r))\n",
      "  File \"/databricks/python/lib/python3.9/site-packages/IPython/core/ultratb.py\", line 730, in format_record\n",
      "    result += ''.join(_format_traceback_lines(frame_info.lines, Colors, self.has_colors, lvals))\n",
      "  File \"/databricks/python/lib/python3.9/site-packages/stack_data/utils.py\", line 145, in cached_property_wrapper\n",
      "    value = obj.__dict__[self.func.__name__] = self.func(obj)\n",
      "  File \"/databricks/python/lib/python3.9/site-packages/stack_data/core.py\", line 698, in lines\n",
      "    pieces = self.included_pieces\n",
      "  File \"/databricks/python/lib/python3.9/site-packages/stack_data/utils.py\", line 145, in cached_property_wrapper\n",
      "    value = obj.__dict__[self.func.__name__] = self.func(obj)\n",
      "  File \"/databricks/python/lib/python3.9/site-packages/stack_data/core.py\", line 649, in included_pieces\n",
      "    pos = scope_pieces.index(self.executing_piece)\n",
      "  File \"/databricks/python/lib/python3.9/site-packages/stack_data/utils.py\", line 145, in cached_property_wrapper\n",
      "    value = obj.__dict__[self.func.__name__] = self.func(obj)\n",
      "  File \"/databricks/python/lib/python3.9/site-packages/stack_data/core.py\", line 628, in executing_piece\n",
      "    return only(\n",
      "  File \"/databricks/python/lib/python3.9/site-packages/executing/executing.py\", line 164, in only\n",
      "    raise NotOneValueFound('Expected one value, found 0')\n",
      "executing.executing.NotOneValueFound: Expected one value, found 0\n"
     ]
    },
    {
     "data": {
      "text/plain": []
     },
     "metadata": {
      "application/vnd.databricks.v1+output": {
       "arguments": {},
       "data": "",
       "errorSummary": "<span class='ansi-red-fg'>AttributeError</span>: 'PipelinedRDD' object has no attribute 'toDf'",
       "errorTraceType": "ansi",
       "metadata": {},
       "type": "ipynbError"
      }
     },
     "output_type": "display_data"
    }
   ],
   "source": [
    "r9.coalesce(1).saveAsTextFile('enter destination loc from s3')"
   ]
  }
 ],
 "metadata": {
  "application/vnd.databricks.v1+notebook": {
   "dashboards": [],
   "environmentMetadata": null,
   "language": "python",
   "notebookMetadata": {
    "pythonIndentUnit": 4
   },
   "notebookName": "ETL spark",
   "widgets": {}
  },
  "language_info": {
   "name": "python"
  }
 },
 "nbformat": 4,
 "nbformat_minor": 0
}
